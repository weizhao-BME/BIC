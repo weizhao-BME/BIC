{
 "cells": [
  {
   "cell_type": "code",
   "execution_count": 2,
   "metadata": {},
   "outputs": [],
   "source": [
    "import numpy as np\n",
    "import scipy\n",
    "from scipy.io import loadmat, savemat\n",
    "from sklearn.linear_model import LinearRegression\n",
    "import os\n",
    "from sklearn.utils import resample"
   ]
  },
  {
   "cell_type": "code",
   "execution_count": 3,
   "metadata": {},
   "outputs": [],
   "source": [
    "###Randomness from Bootstrapping"
   ]
  },
  {
   "cell_type": "code",
   "execution_count": 4,
   "metadata": {},
   "outputs": [],
   "source": [
    "from sklearn.metrics import mean_absolute_error, mean_squared_error, r2_score\n",
    "from scipy.stats import spearmanr\n",
    "from scipy.stats import pearsonr\n",
    "\n",
    "def bootstrap_reg(model,x_train,y_train,x_test,y_test, times = 100):\n",
    "    '''\n",
    "    Perform bootstrapping, store results for further analysis and visualization\n",
    "    :param x_train: training set X\n",
    "    :param y_train: training set Y\n",
    "    :param x_test: testing set X\n",
    "    :param y_test: testing set Y\n",
    "    :param featrue_eng: feature engineering method list to pass in feature engineering function\n",
    "    :param times: how many times to bootstrap\n",
    "    :return: dictionary of metrics, dict['<metric name>'] = [<values, length = fold>]\n",
    "    '''\n",
    "    mae_results = []\n",
    "    rmse_results =[]\n",
    "    r2_results = []\n",
    "    pearson_results = []\n",
    "    spearman_results =[]\n",
    "    index = np.arange(x_train.shape[0])\n",
    "    for i in range(times):\n",
    "        boot_index = resample(index, replace=True, n_samples=None, random_state=9001+i)\n",
    "        x_boot, y_boot = x_train[boot_index], y_train[boot_index]\n",
    "        model.fit(x_boot,y_boot)\n",
    "        y_true = y_test.reshape(-1,)\n",
    "        y_preds = model.predict(x_test).reshape(-1,)\n",
    "        \n",
    "        mae = mean_absolute_error(y_true, y_preds)\n",
    "        rmse = np.sqrt(mean_squared_error(y_true, y_preds))\n",
    "        r2 = r2_score(y_true, y_preds)\n",
    "        p_cor, p_p = pearsonr(y_true,y_preds)\n",
    "        sp_cor, sp_p = spearmanr(y_true, y_preds)\n",
    "        mae_results.append(mae)\n",
    "        rmse_results.append(rmse)\n",
    "        r2_results.append(r2)\n",
    "        pearson_results.append(p_cor)\n",
    "        spearman_results.append(sp_cor)\n",
    "    \n",
    "    #MAE\n",
    "    mae_arr = np.array(mae_results)\n",
    "    mean_mae = np.mean(mae_arr, axis=0)\n",
    "    mae_arr_sorted = np.sort(mae_arr, axis=0)\n",
    "    ci_low = mae_arr_sorted[round(0.025 * times)]\n",
    "    ci_high = mae_arr_sorted[round(0.975 * times)]\n",
    "    mae_result = {'result': mae_arr, 'mean': mean_mae, 'CI': [ci_low, ci_high]}\n",
    "    \n",
    "\n",
    "    # RMSE\n",
    "    rmse_arr = np.array(rmse_results)\n",
    "    mean_rmse = np.mean(rmse_arr, axis=0)\n",
    "    rmse_arr_sorted = np.sort(rmse_arr, axis=0)\n",
    "    ci_low = rmse_arr_sorted[round(0.025 * times)]\n",
    "    ci_high = rmse_arr_sorted[round(0.975 * times)]\n",
    "    rmse_result = {'result': rmse_arr, 'mean': mean_rmse, 'CI': [ci_low, ci_high]}\n",
    "\n",
    "    # R2\n",
    "    r2_arr = np.array(r2_results)\n",
    "    mean_r2 = np.mean(r2_arr, axis=0)\n",
    "    r2_arr_sorted = np.sort(r2_arr, axis=0)\n",
    "    ci_low = r2_arr_sorted[round(0.025 * times)]\n",
    "    ci_high = r2_arr_sorted[round(0.975 * times)]\n",
    "    r2_result = {'result': r2_arr, 'mean': mean_r2, 'CI': [ci_low, ci_high]}\n",
    "\n",
    "    # PR\n",
    "    pearson_arr = np.array(pearson_results)\n",
    "    mean_pearson = np.mean(pearson_arr, axis=0)\n",
    "    pearson_arr_sorted = np.sort(pearson_arr, axis=0)\n",
    "    ci_low = pearson_arr_sorted[round(0.025 * times)]\n",
    "    ci_high = pearson_arr_sorted[round(0.975 * times)]\n",
    "    pearson_result = {'result': pearson_arr, 'mean': mean_pearson, 'CI': [ci_low, ci_high]}\n",
    "\n",
    "    # SR\n",
    "    spearman_arr = np.array(spearman_results)\n",
    "    mean_spearman = np.mean(spearman_arr, axis=0)\n",
    "    spearman_arr_sorted = np.sort(spearman_arr, axis=0)\n",
    "    ci_low = spearman_arr_sorted[round(0.025 * times)]\n",
    "    ci_high = spearman_arr_sorted[round(0.975 * times)]\n",
    "    #print(ci_low)\n",
    "    #print(ci_low)\n",
    "    spearman_result = {'result': spearman_arr, 'mean': mean_spearman, 'CI': [ci_low, ci_high]}\n",
    "    \n",
    "    boot_result = {'mae_result': mae_result, 'rmse_result': rmse_result,'r2_result': r2_result, 'pearson_result': pearson_result,'spearman_result': spearman_result}\n",
    "    return boot_result\n",
    "\n",
    "def _returnRow(list):\n",
    "    return ';'.join([str(i) for i in list])\n",
    "\n",
    "# Print results\n",
    "def fillTable(boot_result, digit = 4):\n",
    "    i=0\n",
    "    one_row = [str(round(boot_result['mae_result']['mean'],digit)),\n",
    "               '['+str(round(boot_result['mae_result']['CI'][0],digit))+','+str(round(boot_result['mae_result']['CI'][1],digit))+']',\n",
    "               str(round(boot_result['rmse_result']['mean'],digit)),\n",
    "               '['+str(round(boot_result['rmse_result']['CI'][0],digit))+','+str(round(boot_result['rmse_result']['CI'][1],digit))+']',\n",
    "               str(round(boot_result['r2_result']['mean'],digit)),\n",
    "               '['+str(round(boot_result['r2_result']['CI'][0],digit))+','+str(round(boot_result['r2_result']['CI'][1],digit))+']',\n",
    "               str(round(boot_result['pearson_result']['mean'],digit)),\n",
    "               '['+str(round(boot_result['pearson_result']['CI'][0],digit))+','+str(round(boot_result['pearson_result']['CI'][1],digit))+']',\n",
    "                str(round(boot_result['spearman_result']['mean'],digit)),\n",
    "               '['+str(round(boot_result['spearman_result']['CI'][0],digit))+','+str(round(boot_result['spearman_result']['CI'][1],digit))+']']\n",
    "    print(_returnRow(one_row))\n",
    "\n",
    "def saveresult(boot_result,file):\n",
    "    np.save(file+'mae.npy',boot_result['mae_result']['result'])\n",
    "    np.save(file+'rmse.npy',boot_result['rmse_result']['result'])\n",
    "    np.save(file+'r2.npy',boot_result['r2_result']['result'])\n",
    "    np.save(file+'pearson.npy',boot_result['pearson_result']['result'])\n",
    "    np.save(file+'spearman.npy',boot_result['spearman_result']['result'])"
   ]
  },
  {
   "cell_type": "code",
   "execution_count": null,
   "metadata": {},
   "outputs": [],
   "source": [
    "###---Distribution visualization---###"
   ]
  },
  {
   "cell_type": "code",
   "execution_count": 3,
   "metadata": {},
   "outputs": [
    {
     "data": {
      "image/png": "[encoded data removed]",
      "text/plain": [
       "<Figure size 432x288 with 1 Axes>"
      ]
     },
     "metadata": {
      "needs_background": "light"
     },
     "output_type": "display_data"
    }
   ],
   "source": [
    "import seaborn as sns\n",
    "import matplotlib.pyplot as plt\n",
    "os.chdir('G:\\\\My Drive\\\\Paper\\\\MPS Regression\\\\Data\\\\Reg Y')\n",
    "dataset1_MPS95 = np.load('Lab impact_MPS95.npy')\n",
    "dataset2_MPS95 = np.load('CF_MPS95.npy')\n",
    "dataset3_MPS95 = np.load('MMA_MPS95.npy')\n",
    "dataset4_MPS95 = np.load('NHTSA_MPS95.npy')\n",
    "dataset5_MPS95 = np.load('NASCAR_MPS95.npy')\n",
    "\n",
    "plt.clf()\n",
    "sns.distplot(dataset1_MPS95,hist=True,kde=True,norm_hist=True,bins=20)\n",
    "sns.distplot(dataset2_MPS95,hist=True,kde=True,norm_hist=True,bins=20)\n",
    "sns.distplot(dataset3_MPS95,hist=True,kde=True,norm_hist=True,bins=20)\n",
    "sns.distplot(dataset4_MPS95,hist=True,kde=True,norm_hist=True,bins=20)\n",
    "sns.distplot(dataset5_MPS95,hist=True,kde=True,norm_hist=True,bins=20)\n",
    "\n",
    "plt.yticks(fontproperties = 'Times New Roman', size = 16)\n",
    "plt.xticks(fontproperties = 'Times New Roman', size = 16)\n",
    "plt.xlabel('MPS95', fontproperties = 'Times New Roman', size = 16)\n",
    "plt.ylabel('Kernel Density',fontproperties = 'Times New Roman', size = 16)\n",
    "plt.grid(which='major',axis='y',linestyle=':', linewidth=1)\n",
    "plt.rc('axes', axisbelow=True)\n",
    "plt.legend(['Lab Impacts','College Football','MMA','NHTSA','NASCAR'],fontsize='large')"
   ]
  },
  {
   "cell_type": "code",
   "execution_count": null,
   "metadata": {},
   "outputs": [],
   "source": [
    "###---Cross-dataset prediction---###"
   ]
  },
  {
   "cell_type": "code",
   "execution_count": 16,
   "metadata": {},
   "outputs": [
    {
     "name": "stdout",
     "output_type": "stream",
     "text": [
      "0.1214;[0.1115,0.1295];0.1317;[0.1238,0.1402];-1.887;[-2.208,-1.4966];0.7428;[0.7428,0.7428];0.7375;[0.7375,0.7375]\n",
      "0.0534;[0.0391,0.083];0.068;[0.0559,0.0961];0.2124;[-0.4743,0.4838];0.736;[0.736,0.736];0.7851;[0.7851,0.7851]\n",
      "0.1311;[0.1209,0.142];0.1431;[0.1334,0.1536];-2.4081;[-2.8606,-1.9424];0.6173;[0.6173,0.6173];0.7675;[0.7675,0.7675]\n",
      "0.1212;[0.1086,0.1356];0.1307;[0.1182,0.145];-1.8457;[-2.4421,-1.3173];0.7489;[0.7489,0.7489];0.7566;[0.7566,0.7566]\n",
      "0.1327;[0.1185,0.1469];0.1543;[0.1395,0.1819];-2.9702;[-3.9018,-2.1611];0.5977;[0.5977,0.5977];0.6649;[0.6649,0.6649]\n",
      "0.1111;[0.0943,0.1307];0.1239;[0.1074,0.1434];-1.5645;[-2.315,-0.8542];0.6434;[0.6434,0.6434];0.654;[0.654,0.654]\n",
      "0.1224;[0.1034,0.1436];0.1434;[0.1297,0.1604];-2.4272;[-3.2104,-1.7799];0.2902;[0.2902,0.2902];0.7926;[0.7926,0.7926]\n",
      "0.0992;[0.0878,0.1109];0.1113;[0.1008,0.1223];-1.0635;[-1.4824,-0.6752];0.7593;[0.7593,0.7593];0.8182;[0.8182,0.8182]\n",
      "0.1077;[0.0941,0.1249];0.1239;[0.1113,0.138];-1.5585;[-2.138,-1.0355];0.6117;[0.6117,0.6117];0.6653;[0.6653,0.6653]\n",
      "0.1113;[0.1014,0.1234];0.124;[0.1159,0.1336];-1.5574;[-1.8904,-1.2202];0.7434;[0.7434,0.7434];0.7719;[0.7719,0.7719]\n",
      "0.1242;[0.1104,0.1386];0.1347;[0.1211,0.1489];-2.0219;[-2.6764,-1.3992];0.7076;[0.7076,0.7076];0.7055;[0.7055,0.7055]\n",
      "0.0517;[0.037,0.0819];0.0662;[0.0527,0.0951];0.2498;[-0.4361,0.5408];0.7616;[0.7616,0.7616];0.7838;[0.7838,0.7838]\n",
      "0.1166;[0.1086,0.1249];0.1272;[0.1201,0.1348];-1.693;[-2.0183,-1.3261];0.7472;[0.7472,0.7472];0.741;[0.741,0.741]\n"
     ]
    }
   ],
   "source": [
    "#Dataset 4 -> Dataset 5, bootstrapping; MPS95\n",
    "from sklearn.model_selection import train_test_split\n",
    "#Load Y\n",
    "os.chdir('.\\\\Data')\n",
    "NHTSA_MPS95 = np.load('NHTSA_MPS95.npy')\n",
    "NASCAR_MPS95 = np.load('NASCAR_MPS95.npy')\n",
    "#Load X\n",
    "metrics  = ['BAM','BrIC','CP','GAMBIT','HIC','HIP','PRHIC','RIC','SI','PCS','lin_acc_CG_max','ang_vel_max','ang_acc_max','Damage_C','RVCI','KLC','BRIC','CIBIC']\n",
    "for metric in metrics:\n",
    "    NHTSA_metric = loadmat('NHTSA_BIC.mat')['BIC'][metric].astype(np.double)\n",
    "    NASCAR_metric = loadmat('NASCAR_BIC.mat')['BIC'][metric].astype(np.double)\n",
    "    \n",
    "    y_train= NHTSA_MPS95\n",
    "    y_test = NASCAR_MPS95\n",
    "    x_train = NHTSA_metric\n",
    "    x_test = NASCAR_metric\n",
    "    \n",
    "    lr = LinearRegression()\n",
    "    boot_result = bootstrap_reg(lr,x_train,y_train,x_test,y_test, times = 100)\n",
    "    fillTable(boot_result,digit = 4)"
   ]
  },
  {
   "cell_type": "code",
   "execution_count": null,
   "metadata": {},
   "outputs": [],
   "source": [
    "###---Similar Codes for other cross-dataset tasks---###"
   ]
  }
 ],
 "metadata": {
  "kernelspec": {
   "display_name": "Python 3",
   "language": "python",
   "name": "python3"
  },
  "language_info": {
   "codemirror_mode": {
    "name": "ipython",
    "version": 3
   },
   "file_extension": ".py",
   "mimetype": "text/x-python",
   "name": "python",
   "nbconvert_exporter": "python",
   "pygments_lexer": "ipython3",
   "version": "3.7.4"
  }
 },
 "nbformat": 4,
 "nbformat_minor": 2
}
