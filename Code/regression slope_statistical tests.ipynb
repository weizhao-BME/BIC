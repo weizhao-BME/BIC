{
 "cells": [
  {
   "cell_type": "code",
   "execution_count": null,
   "metadata": {},
   "outputs": [],
   "source": [
    "###---Regression slope and Bootstrapping ---###"
   ]
  },
  {
   "cell_type": "code",
   "execution_count": null,
   "metadata": {},
   "outputs": [],
   "source": [
    "import numpy as np\n",
    "import scipy\n",
    "from scipy.io import loadmat, savemat\n",
    "from sklearn.linear_model import LinearRegression\n",
    "import os\n",
    "from sklearn.utils import resample\n",
    "from scipy.stats import shapiro\n",
    "import matplotlib.pyplot as plt"
   ]
  },
  {
   "cell_type": "code",
   "execution_count": null,
   "metadata": {},
   "outputs": [],
   "source": [
    "def bootstrap(model, x,y, times = 1000):\n",
    "    '''\n",
    "    Perform bootstrapping, store results for further analysis and visualization\n",
    "    :param x_train: training set X\n",
    "    :param y_train: training set Y\n",
    "    :param x_test: testing set X\n",
    "    :param y_test: testing set Y\n",
    "    :param featrue_eng: feature engineering method list to pass in feature engineering function\n",
    "    :param times: how many times to bootstrap\n",
    "    :return: dictionary of metrics, dict['<metric name>'] = [<values, length = fold>]\n",
    "    '''\n",
    "    results = []\n",
    "    index = np.arange(x.shape[0])\n",
    "    for i in range(times):\n",
    "        boot_index = resample(index, replace=True, n_samples=None, random_state=9001+i)\n",
    "        x_boot, y_boot = x[boot_index], y[boot_index]\n",
    "        model.fit(x_boot,y_boot)\n",
    "        results.append(model.coef_[0][0])\n",
    "    return results"
   ]
  },
  {
   "cell_type": "code",
   "execution_count": null,
   "metadata": {},
   "outputs": [],
   "source": [
    "#Load Y\n",
    "os.chdir('.\\\\Data')\n",
    "dataset1_MPS95 = np.load('Lab impact_MPS95.npy')\n",
    "#Load X\n",
    "metrics  = ['BAM','BrIC','CP','GAMBIT','HIC','HIP','PRHIC','RIC','SI','PCS','lin_acc_CG_max','ang_vel_max','ang_acc_max','Damage_C','RVCI','KLC','BRIC','CIBIC']\n",
    "for metric in metrics:\n",
    "    HM1_metric = loadmat('Lab impact1_BIC.mat')[metric]\n",
    "    HM2_metric = loadmat('Lab impact2_BIC.mat')[metric]\n",
    "    NFL53_metric = loadmat('Lab impact3_BIC.mat')[metric]\n",
    "    dataset1_metric = np.row_stack((HM1_metric,HM2_metric, NFL53_metric))\n",
    "    Y = dataset1_MPS95\n",
    "    X = dataset1_metric\n",
    "\n",
    "    lr = LinearRegression()\n",
    "    boot_results = np.array(bootstrap(lr,X,Y)).reshape(-1,)\n",
    "    sorted_boot = np.sort(boot_results)\n",
    "    np.save('dataset1_MPS95_'+metric+'_bootresults.npy', sorted_boot)\n",
    "    print(\"{:.3e}\".format(np.mean(sorted_boot)),'['+\"{:.3e}\".format(sorted_boot[round(0.025*sorted_boot.shape[0])])+','+\"{:.3e}\".format(sorted_boot[round(0.975*sorted_boot.shape[0])])+']')"
   ]
  },
  {
   "cell_type": "code",
   "execution_count": null,
   "metadata": {},
   "outputs": [],
   "source": [
    "#Load Y\n",
    "os.chdir('.\\\\Data')\n",
    "dataset1_MPSCC95 = np.load('Lab impact_MPSCC95.npy')\n",
    "#Load X\n",
    "metrics  = ['BAM','BrIC','CP','GAMBIT','HIC','HIP','PRHIC','RIC','SI','PCS','lin_acc_CG_max','ang_vel_max','ang_acc_max','Damage_C','RVCI','KLC','BRIC','CIBIC']\n",
    "for metric in metrics:\n",
    "    HM1_metric = loadmat('Lab impact1_BIC.mat')[metric]\n",
    "    HM2_metric = loadmat('Lab impact2_BIC.mat')[metric]\n",
    "    NFL53_metric = loadmat('Lab impact3_BIC.mat')[metric]\n",
    "    dataset1_metric = np.row_stack((HM1_metric,HM2_metric, NFL53_metric))\n",
    "    Y = dataset1_MPSCC95\n",
    "    X = dataset1_metric\n",
    "\n",
    "    lr = LinearRegression()\n",
    "    boot_results = np.array(bootstrap(lr,X,Y)).reshape(-1,)\n",
    "    sorted_boot = np.sort(boot_results)\n",
    "    np.save('dataset1_MPSCC95_'+metric+'_bootresults.npy', sorted_boot)\n",
    "    print(\"{:.3e}\".format(np.mean(sorted_boot)),'['+\"{:.3e}\".format(sorted_boot[round(0.025*sorted_boot.shape[0])])+','+\"{:.3e}\".format(sorted_boot[round(0.975*sorted_boot.shape[0])])+']')"
   ]
  },
  {
   "cell_type": "code",
   "execution_count": null,
   "metadata": {},
   "outputs": [],
   "source": [
    "#Load Y\n",
    "os.chdir('.\\\\Data')\n",
    "dataset1_CSDM = np.load('Lab impact_CSDM.npy')\n",
    "#Load X\n",
    "metrics  = ['BAM','BrIC','CP','GAMBIT','HIC','HIP','PRHIC','RIC','SI','PCS','lin_acc_CG_max','ang_vel_max','ang_acc_max','Damage_C','RVCI','KLC','BRIC','CIBIC']\n",
    "for metric in metrics:\n",
    "    HM1_metric = loadmat('Lab impact1_BIC.mat')[metric]\n",
    "    HM2_metric = loadmat('Lab impact2_BIC.mat')[metric]\n",
    "    NFL53_metric = loadmat('Lab impact3_BIC.mat')[metric]\n",
    "    dataset1_metric = np.row_stack((HM1_metric,HM2_metric, NFL53_metric))\n",
    "    Y = dataset1_CSDM\n",
    "    X = dataset1_metric\n",
    "\n",
    "    lr = LinearRegression()\n",
    "    boot_results = np.array(bootstrap(lr,X,Y)).reshape(-1,)\n",
    "    sorted_boot = np.sort(boot_results)\n",
    "    np.save('dataset1_CSDM_'+metric+'_bootresults.npy', sorted_boot)\n",
    "    print(\"{:.3e}\".format(np.mean(sorted_boot)),'['+\"{:.3e}\".format(sorted_boot[round(0.025*sorted_boot.shape[0])])+','+\"{:.3e}\".format(sorted_boot[round(0.975*sorted_boot.shape[0])])+']')"
   ]
  },
  {
   "cell_type": "code",
   "execution_count": null,
   "metadata": {},
   "outputs": [],
   "source": [
    "#Load Y\n",
    "dataset2_MPS95 = np.load('CF_MPS95.npy')\n",
    "#Load X\n",
    "metrics  = ['BAM','BrIC','CP','GAMBIT','HIC','HIP','PRHIC','RIC','SI','PCS','lin_acc_CG_max','ang_vel_max','ang_acc_max','Damage_C','RVCI','KLC','BRIC','CIBIC']\n",
    "for metric in metrics:\n",
    "    AF_metric = loadmat('CF1_BIC.mat')[metric]\n",
    "    PAC12_metric = loadmat('CF2_BIC.mat')[metric]\n",
    "    dataset2_metric = np.row_stack((AF_metric, PAC12_metric))\n",
    "    Y = dataset2_MPS95\n",
    "    X = dataset2_metric\n",
    "\n",
    "    lr = LinearRegression()\n",
    "    boot_results = np.array(bootstrap(lr,X,Y)).reshape(-1,)\n",
    "    sorted_boot = np.sort(boot_results)\n",
    "    np.save('dataset2_MPS95_'+metric+'_bootresults.npy', sorted_boot)\n",
    "    print(\"{:.3e}\".format(np.mean(sorted_boot)),'['+\"{:.3e}\".format(sorted_boot[round(0.025*sorted_boot.shape[0])])+','+\"{:.3e}\".format(sorted_boot[round(0.975*sorted_boot.shape[0])])+']')"
   ]
  },
  {
   "cell_type": "code",
   "execution_count": null,
   "metadata": {},
   "outputs": [],
   "source": [
    "#Load Y\n",
    "dataset2_MPSCC95 = np.load('CF_MPSCC95.npy')\n",
    "#Load X\n",
    "metrics  = ['BAM','BrIC','CP','GAMBIT','HIC','HIP','PRHIC','RIC','SI','PCS','lin_acc_CG_max','ang_vel_max','ang_acc_max','Damage_C','RVCI','KLC','BRIC','CIBIC']\n",
    "for metric in metrics:\n",
    "    AF_metric = loadmat('CF1_BIC.mat')[metric]\n",
    "    PAC12_metric = loadmat('CF2_BIC.mat')[metric]\n",
    "    dataset2_metric = np.row_stack((AF_metric, PAC12_metric))\n",
    "    Y = dataset2_MPSCC95\n",
    "    X = dataset2_metric\n",
    "\n",
    "    lr = LinearRegression()\n",
    "    boot_results = np.array(bootstrap(lr,X,Y)).reshape(-1,)\n",
    "    sorted_boot = np.sort(boot_results)\n",
    "    np.save('dataset2_MPSCC95_'+metric+'_bootresults.npy', sorted_boot)\n",
    "    print(\"{:.3e}\".format(np.mean(sorted_boot)),'['+\"{:.3e}\".format(sorted_boot[round(0.025*sorted_boot.shape[0])])+','+\"{:.3e}\".format(sorted_boot[round(0.975*sorted_boot.shape[0])])+']')"
   ]
  },
  {
   "cell_type": "code",
   "execution_count": null,
   "metadata": {},
   "outputs": [],
   "source": [
    "#Load Y\n",
    "dataset2_MPSCC95 = np.load('CF_MPSCC95.npy')\n",
    "#Load X\n",
    "metrics  = ['BAM','BrIC','CP','GAMBIT','HIC','HIP','PRHIC','RIC','SI','PCS','lin_acc_CG_max','ang_vel_max','ang_acc_max','Damage_C','RVCI','KLC','BRIC','CIBIC']\n",
    "for metric in metrics:\n",
    "    AF_metric = loadmat('CF1_BIC.mat')[metric]\n",
    "    PAC12_metric = loadmat('CF2_BIC.mat')[metric]\n",
    "    dataset2_metric = np.row_stack((AF_metric, PAC12_metric))\n",
    "    Y = dataset2_MPSCC95\n",
    "    X = dataset2_metric\n",
    "\n",
    "    lr = LinearRegression()\n",
    "    boot_results = np.array(bootstrap(lr,X,Y)).reshape(-1,)\n",
    "    sorted_boot = np.sort(boot_results)\n",
    "    np.save('dataset2_MPSCC95_'+metric+'_bootresults.npy', sorted_boot)\n",
    "    print(\"{:.3e}\".format(np.mean(sorted_boot)),'['+\"{:.3e}\".format(sorted_boot[round(0.025*sorted_boot.shape[0])])+','+\"{:.3e}\".format(sorted_boot[round(0.975*sorted_boot.shape[0])])+']')"
   ]
  },
  {
   "cell_type": "code",
   "execution_count": null,
   "metadata": {},
   "outputs": [],
   "source": [
    "#Load Y\n",
    "dataset2_CSDM = np.load('CF_CSDM.npy')\n",
    "#Load X\n",
    "metrics  = ['BAM','BrIC','CP','GAMBIT','HIC','HIP','PRHIC','RIC','SI','PCS','lin_acc_CG_max','ang_vel_max','ang_acc_max','Damage_C','RVCI','KLC','BRIC','CIBIC']\n",
    "for metric in metrics:\n",
    "    AF_metric = loadmat('CF1_BIC.mat')[metric]\n",
    "    PAC12_metric = loadmat('CF2_BIC.mat')[metric]\n",
    "    dataset2_metric = np.row_stack((AF_metric, PAC12_metric))\n",
    "    Y = dataset2_CSDM\n",
    "    X = dataset2_metric\n",
    "\n",
    "    lr = LinearRegression()\n",
    "    boot_results = np.array(bootstrap(lr,X,Y)).reshape(-1,)\n",
    "    sorted_boot = np.sort(boot_results)\n",
    "    np.save('dataset2_CSDM_'+metric+'_bootresults.npy', sorted_boot)\n",
    "    print(\"{:.3e}\".format(np.mean(sorted_boot)),'['+\"{:.3e}\".format(sorted_boot[round(0.025*sorted_boot.shape[0])])+','+\"{:.3e}\".format(sorted_boot[round(0.975*sorted_boot.shape[0])])+']')"
   ]
  },
  {
   "cell_type": "code",
   "execution_count": null,
   "metadata": {},
   "outputs": [],
   "source": [
    "###---Similar codes for MMA/NHTSA/NASCAR data---###"
   ]
  },
  {
   "cell_type": "code",
   "execution_count": null,
   "metadata": {},
   "outputs": [],
   "source": [
    "###---Statistical tests---###"
   ]
  },
  {
   "cell_type": "code",
   "execution_count": null,
   "metadata": {},
   "outputs": [],
   "source": [
    "from scipy.stats import ttest_ind, f_oneway\n",
    "from scipy.stats import shapiro,ranksums"
   ]
  },
  {
   "cell_type": "code",
   "execution_count": null,
   "metadata": {},
   "outputs": [],
   "source": [
    "#MPS95 One-way ANOVA\n",
    "os.chdir('G:\\\\My Drive\\\\Paper\\\\MPS Regression\\\\Data\\\\BIC\\\\bootstrapping coefficients')\n",
    "metrics  = ['BAM','BrIC','CP','GAMBIT','HIC','HIP','PRHIC','RIC','SI','PCS','lin_acc_CG_max','ang_vel_max','ang_acc_max','Damage_C','RVCI','KLC','BRIC','CIBIC']\n",
    "for metric in metrics:\n",
    "    A = np.load('dataset1_MPS95_'+metric+'_bootresults.npy')\n",
    "    B = np.load('dataset2_MPS95_'+metric+'_bootresults.npy')\n",
    "    C = np.load('dataset3_MPS95_'+metric+'_bootresults.npy')\n",
    "    D = np.load('dataset4_MPS95_'+metric+'_bootresults.npy')\n",
    "    E = np.load('dataset5_MPS95_'+metric+'_bootresults.npy')\n",
    "    \n",
    "    \n",
    "    F, p = f_oneway(A,B,C,D,E)\n",
    "    print(\"{:.3e}\".format(p))"
   ]
  },
  {
   "cell_type": "code",
   "execution_count": null,
   "metadata": {},
   "outputs": [],
   "source": [
    "#MPSCC95 One-way ANOVA\n",
    "os.chdir('G:\\\\My Drive\\\\Paper\\\\MPS Regression\\\\Data\\\\BIC\\\\bootstrapping coefficients')\n",
    "metrics  = ['BAM','BrIC','CP','GAMBIT','HIC','HIP','PRHIC','RIC','SI','PCS','lin_acc_CG_max','ang_vel_max','ang_acc_max','Damage_C','RVCI','KLC','BRIC','CIBIC']\n",
    "for metric in metrics:\n",
    "    A = np.load('dataset1_MPSCC95_'+metric+'_bootresults.npy')\n",
    "    B = np.load('dataset2_MPSCC95_'+metric+'_bootresults.npy')\n",
    "    C = np.load('dataset3_MPSCC95_'+metric+'_bootresults.npy')\n",
    "    D = np.load('dataset4_MPSCC95_'+metric+'_bootresults.npy')\n",
    "    E = np.load('dataset5_MPSCC95_'+metric+'_bootresults.npy')\n",
    "    \n",
    "    \n",
    "    F, p = f_oneway(A,B,C,D,E)\n",
    "    print(\"{:.3e}\".format(p))"
   ]
  },
  {
   "cell_type": "code",
   "execution_count": null,
   "metadata": {},
   "outputs": [],
   "source": [
    "#CSDM One-way ANOVA\n",
    "os.chdir('G:\\\\My Drive\\\\Paper\\\\MPS Regression\\\\Data\\\\BIC\\\\bootstrapping coefficients')\n",
    "metrics  = ['BAM','BrIC','CP','GAMBIT','HIC','HIP','PRHIC','RIC','SI','PCS','lin_acc_CG_max','ang_vel_max','ang_acc_max','Damage_C','RVCI','KLC','BRIC','CIBIC']\n",
    "for metric in metrics:\n",
    "    A = np.load('dataset1_CSDM_'+metric+'_bootresults.npy')\n",
    "    B = np.load('dataset2_CSDM_'+metric+'_bootresults.npy')\n",
    "    C = np.load('dataset3_CSDM_'+metric+'_bootresults.npy')\n",
    "    D = np.load('dataset4_CSDM_'+metric+'_bootresults.npy')\n",
    "    E = np.load('dataset5_CSDM_'+metric+'_bootresults.npy')\n",
    "    \n",
    "    \n",
    "    F, p = f_oneway(A,B,C,D,E)\n",
    "    print(\"{:.3e}\".format(p))"
   ]
  },
  {
   "cell_type": "code",
   "execution_count": null,
   "metadata": {},
   "outputs": [],
   "source": [
    "import os\n",
    "os.chdir('G:\\\\My Drive\\\\Paper\\\\MPS Regression\\\\Data\\\\BIC\\\\bootstrapping coefficients')\n",
    "metrics  = ['BAM','BrIC','CP','GAMBIT','HIC','HIP','PRHIC','RIC','SI','PCS','lin_acc_CG_max','ang_vel_max','ang_acc_max','Damage_C','RVCI','KLC','BRIC','CIBIC']\n",
    "for metric in metrics:\n",
    "    A = np.load('dataset1_MPS95_'+metric+'_bootresults.npy')\n",
    "    B = np.load('dataset2_MPS95_'+metric+'_bootresults.npy')\n",
    "    C = np.load('dataset3_MPS95_'+metric+'_bootresults.npy')\n",
    "    D = np.load('dataset4_MPS95_'+metric+'_bootresults.npy')\n",
    "    E = np.load('dataset5_MPS95_'+metric+'_bootresults.npy')\n",
    "    \n",
    "    AB_pvalue = ranksums(A,B).pvalue\n",
    "    AC_pvalue = ranksums(A,C).pvalue\n",
    "    AD_pvalue = ranksums(A,D).pvalue\n",
    "    AE_pvalue = ranksums(A,E).pvalue\n",
    "    BC_pvalue = ranksums(B,C).pvalue\n",
    "    BD_pvalue = ranksums(B,D).pvalue\n",
    "    BE_pvalue = ranksums(B,E).pvalue\n",
    "    CD_pvalue = ranksums(C,D).pvalue\n",
    "    CE_pvalue = ranksums(C,E).pvalue\n",
    "    DE_pvalue = ranksums(D,E).pvalue\n",
    "    \n",
    "    print(\"{:.3e}\".format(AB_pvalue),',',\"{:.3e}\".format(AC_pvalue),',',\"{:.3e}\".format(AD_pvalue),',',\"{:.3e}\".format(AE_pvalue),',',\"{:.3e}\".format(BC_pvalue),','\\\n",
    "         ,\"{:.3e}\".format(BD_pvalue),',',\"{:.3e}\".format(BE_pvalue),',',\"{:.3e}\".format(CD_pvalue),',',\"{:.3e}\".format(CE_pvalue),',',\"{:.3e}\".format(DE_pvalue))"
   ]
  },
  {
   "cell_type": "code",
   "execution_count": null,
   "metadata": {},
   "outputs": [],
   "source": [
    "os.chdir('G:\\\\My Drive\\\\Paper\\\\MPS Regression\\\\Data\\\\BIC\\\\bootstrapping coefficients')\n",
    "metrics  = ['BAM','BrIC','CP','GAMBIT','HIC','HIP','PRHIC','RIC','SI','PCS','lin_acc_CG_max','ang_vel_max','ang_acc_max','Damage_C','RVCI','KLC','BRIC','CIBIC']\n",
    "for metric in metrics:\n",
    "    A = np.load('dataset1_MPSCC95_'+metric+'_bootresults.npy')\n",
    "    B = np.load('dataset2_MPSCC95_'+metric+'_bootresults.npy')\n",
    "    C = np.load('dataset3_MPSCC95_'+metric+'_bootresults.npy')\n",
    "    D = np.load('dataset4_MPSCC95_'+metric+'_bootresults.npy')\n",
    "    E = np.load('dataset5_MPSCC95_'+metric+'_bootresults.npy')\n",
    "    \n",
    "    AB_pvalue = ranksums(A,B).pvalue\n",
    "    AC_pvalue = ranksums(A,C).pvalue\n",
    "    AD_pvalue = ranksums(A,D).pvalue\n",
    "    AE_pvalue = ranksums(A,E).pvalue\n",
    "    BC_pvalue = ranksums(B,C).pvalue\n",
    "    BD_pvalue = ranksums(B,D).pvalue\n",
    "    BE_pvalue = ranksums(B,E).pvalue\n",
    "    CD_pvalue = ranksums(C,D).pvalue\n",
    "    CE_pvalue = ranksums(C,E).pvalue\n",
    "    DE_pvalue = ranksums(D,E).pvalue\n",
    "    \n",
    "    print(\"{:.3e}\".format(AB_pvalue),',',\"{:.3e}\".format(AC_pvalue),',',\"{:.3e}\".format(AD_pvalue),',',\"{:.3e}\".format(AE_pvalue),',',\"{:.3e}\".format(BC_pvalue),','\\\n",
    "         ,\"{:.3e}\".format(BD_pvalue),',',\"{:.3e}\".format(BE_pvalue),',',\"{:.3e}\".format(CD_pvalue),',',\"{:.3e}\".format(CE_pvalue),',',\"{:.3e}\".format(DE_pvalue))"
   ]
  },
  {
   "cell_type": "code",
   "execution_count": null,
   "metadata": {},
   "outputs": [],
   "source": [
    "os.chdir('G:\\\\My Drive\\\\Paper\\\\MPS Regression\\\\Data\\\\BIC\\\\bootstrapping coefficients')\n",
    "metrics  = ['BAM','BrIC','CP','GAMBIT','HIC','HIP','PRHIC','RIC','SI','PCS','lin_acc_CG_max','ang_vel_max','ang_acc_max','Damage_C','RVCI','KLC','BRIC','CIBIC']\n",
    "for metric in metrics:\n",
    "    A = np.load('dataset1_CSDM_'+metric+'_bootresults.npy')\n",
    "    B = np.load('dataset2_CSDM_'+metric+'_bootresults.npy')\n",
    "    C = np.load('dataset3_CSDM_'+metric+'_bootresults.npy')\n",
    "    D = np.load('dataset4_CSDM_'+metric+'_bootresults.npy')\n",
    "    E = np.load('dataset5_CSDM_'+metric+'_bootresults.npy')\n",
    "    \n",
    "    AB_pvalue = ranksums(A,B).pvalue\n",
    "    AC_pvalue = ranksums(A,C).pvalue\n",
    "    AD_pvalue = ranksums(A,D).pvalue\n",
    "    AE_pvalue = ranksums(A,E).pvalue\n",
    "    BC_pvalue = ranksums(B,C).pvalue\n",
    "    BD_pvalue = ranksums(B,D).pvalue\n",
    "    BE_pvalue = ranksums(B,E).pvalue\n",
    "    CD_pvalue = ranksums(C,D).pvalue\n",
    "    CE_pvalue = ranksums(C,E).pvalue\n",
    "    DE_pvalue = ranksums(D,E).pvalue\n",
    "    \n",
    "    print(\"{:.3e}\".format(AB_pvalue),',',\"{:.3e}\".format(AC_pvalue),',',\"{:.3e}\".format(AD_pvalue),',',\"{:.3e}\".format(AE_pvalue),',',\"{:.3e}\".format(BC_pvalue),','\\\n",
    "         ,\"{:.3e}\".format(BD_pvalue),',',\"{:.3e}\".format(BE_pvalue),',',\"{:.3e}\".format(CD_pvalue),',',\"{:.3e}\".format(CE_pvalue),',',\"{:.3e}\".format(DE_pvalue))"
   ]
  }
 ],
 "metadata": {
  "kernelspec": {
   "display_name": "Python 3",
   "language": "python",
   "name": "python3"
  },
  "language_info": {
   "codemirror_mode": {
    "name": "ipython",
    "version": 3
   },
   "file_extension": ".py",
   "mimetype": "text/x-python",
   "name": "python",
   "nbconvert_exporter": "python",
   "pygments_lexer": "ipython3",
   "version": "3.7.4"
  }
 },
 "nbformat": 4,
 "nbformat_minor": 2
}
